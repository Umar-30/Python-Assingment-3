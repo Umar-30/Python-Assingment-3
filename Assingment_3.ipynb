{
  "cells": [
    {
      "cell_type": "markdown",
      "metadata": {
        "id": "view-in-github",
        "colab_type": "text"
      },
      "source": [
        "<a href=\"https://colab.research.google.com/github/Umar-30/Python-Assingment-3/blob/main/Assingment_3.ipynb\" target=\"_parent\"><img src=\"https://colab.research.google.com/assets/colab-badge.svg\" alt=\"Open In Colab\"/></a>"
      ]
    },
    {
      "cell_type": "markdown",
      "metadata": {
        "id": "FykAPCdZ4erp"
      },
      "source": [
        "Assingment 3 List Tuples and Method\n",
        "\n",
        "\n"
      ]
    },
    {
      "cell_type": "markdown",
      "metadata": {
        "id": "MyyhGjUsZYLp"
      },
      "source": [
        "Q1. Create a list of five numbers and append a new number to it. Print the updated list."
      ]
    },
    {
      "cell_type": "code",
      "execution_count": null,
      "metadata": {
        "colab": {
          "base_uri": "https://localhost:8080/"
        },
        "id": "T0IdV9GH5RNj",
        "outputId": "671f44dd-ecd5-4844-8404-3b67a07de0e4"
      },
      "outputs": [
        {
          "name": "stdout",
          "output_type": "stream",
          "text": [
            "Updated List: [51, 52, 53, 54, 55, 56]\n"
          ]
        }
      ],
      "source": [
        "number = [51, 52, 53, 54, 55]\n",
        "number.append(56)\n",
        "print(\"Updated List:\", number)\n"
      ]
    },
    {
      "cell_type": "markdown",
      "metadata": {
        "id": "4y5F1l0ubsq5"
      },
      "source": [
        "Q2. Extend a list [1, 2, 3] with another list [4, 5, 6]. Print the result."
      ]
    },
    {
      "cell_type": "code",
      "execution_count": null,
      "metadata": {
        "colab": {
          "base_uri": "https://localhost:8080/"
        },
        "id": "ySxt50zobvof",
        "outputId": "98aaf218-11d8-45e2-c48a-c2b3bac094ff"
      },
      "outputs": [
        {
          "name": "stdout",
          "output_type": "stream",
          "text": [
            "updated List: [1, 2, 3, 4, 5, 6]\n"
          ]
        }
      ],
      "source": [
        "number1 =[1, 2, 3]\n",
        "number1.extend([4, 5, 6])\n",
        "print(\"updated List:\", number1)"
      ]
    },
    {
      "cell_type": "markdown",
      "metadata": {
        "id": "ldXnq3yccW9D"
      },
      "source": [
        "Q3. Insert the string \"Python\" at index 2 in the list [\"Java\", \"C++\", \"JavaScript\",\n",
        "\"Ruby\"]."
      ]
    },
    {
      "cell_type": "code",
      "execution_count": null,
      "metadata": {
        "colab": {
          "base_uri": "https://localhost:8080/"
        },
        "id": "r7zOqNKtcajl",
        "outputId": "500877c2-ed09-4f36-bf93-ec4453a3b0c4"
      },
      "outputs": [
        {
          "name": "stdout",
          "output_type": "stream",
          "text": [
            "New List: ['Java', 'C++', 'python', 'JavaScript', 'Ruby']\n"
          ]
        }
      ],
      "source": [
        "language = [\"Java\", \"C++\", \"JavaScript\", \"Ruby\"]\n",
        "language.insert(2, \"python\")\n",
        "print(\"New List:\", language)"
      ]
    },
    {
      "cell_type": "markdown",
      "metadata": {
        "id": "rNIjUPzJd1Qf"
      },
      "source": [
        "Q4. Remove the first occurrence of the number 10 from the list [10, 20, 30, 10, 40]."
      ]
    },
    {
      "cell_type": "code",
      "execution_count": null,
      "metadata": {
        "colab": {
          "base_uri": "https://localhost:8080/"
        },
        "id": "m3P_aoJId_-S",
        "outputId": "e4b67b6a-3c2a-452f-e826-a913722926b0"
      },
      "outputs": [
        {
          "name": "stdout",
          "output_type": "stream",
          "text": [
            "updated list: [20, 30, 40]\n"
          ]
        }
      ],
      "source": [
        "number3 = [10, 20, 30, 40]\n",
        "number3.remove(10)\n",
        "print(\"updated list:\", number3)"
      ]
    },
    {
      "cell_type": "markdown",
      "metadata": {
        "id": "UtJa6SDBehFM"
      },
      "source": [
        "Q5. Use the pop() method to remove the last element from [100, 200, 300, 400] and\n",
        "print the modified list.\n"
      ]
    },
    {
      "cell_type": "code",
      "execution_count": null,
      "metadata": {
        "colab": {
          "base_uri": "https://localhost:8080/"
        },
        "id": "tVfFU13pekPO",
        "outputId": "d88a47df-0649-4c18-a0c5-ea5bc1dc1e3f"
      },
      "outputs": [
        {
          "name": "stdout",
          "output_type": "stream",
          "text": [
            "modified List: [100, 200, 300]\n"
          ]
        }
      ],
      "source": [
        "num4 = [100, 200, 300, 400]\n",
        "num4.pop()\n",
        "print(\"modified List:\",num4)"
      ]
    },
    {
      "cell_type": "markdown",
      "metadata": {
        "id": "VpuoshaZgfnA"
      },
      "source": [
        "Q6. Count how many times the number 5 appears in the list [5, 10, 5, 20, 5, 30]."
      ]
    },
    {
      "cell_type": "code",
      "execution_count": null,
      "metadata": {
        "colab": {
          "base_uri": "https://localhost:8080/"
        },
        "id": "UKEZ67jDghwR",
        "outputId": "726da022-f0fe-461b-d01f-959fdcee590f"
      },
      "outputs": [
        {
          "name": "stdout",
          "output_type": "stream",
          "text": [
            "count of 5: 3\n"
          ]
        }
      ],
      "source": [
        "number_list = [5, 10, 5, 20, 5, 30]\n",
        "num5 = number_list.count(5)\n",
        "print(\"count of 5:\", num5)"
      ]
    },
    {
      "cell_type": "markdown",
      "metadata": {
        "id": "nYYTNCB3imI5"
      },
      "source": [
        "Q7. Sort the list [9, 1, 8, 3, 5] in ascending and descending order"
      ]
    },
    {
      "cell_type": "code",
      "execution_count": null,
      "metadata": {
        "colab": {
          "base_uri": "https://localhost:8080/"
        },
        "id": "V7xeojT2iouP",
        "outputId": "8f25a4c1-6a62-42c4-c22d-bc5f1a5e419c"
      },
      "outputs": [
        {
          "name": "stdout",
          "output_type": "stream",
          "text": [
            "Ascending Order: [1, 3, 5, 8, 9]\n",
            "Descending Order: [9, 8, 5, 3, 1]\n"
          ]
        }
      ],
      "source": [
        "num_list = [9, 1, 8, 3, 5]\n",
        "num_list.sort()\n",
        "print(\"Ascending Order:\", num_list)\n",
        "num_list.sort(reverse=True)\n",
        "print(\"Descending Order:\", num_list)"
      ]
    },
    {
      "cell_type": "markdown",
      "metadata": {
        "id": "FofWWq2wi8Zs"
      },
      "source": [
        "Q8. Reverse the list [“apple”, “banana”, “cherry”] using the reverse() method."
      ]
    },
    {
      "cell_type": "code",
      "execution_count": null,
      "metadata": {
        "colab": {
          "base_uri": "https://localhost:8080/"
        },
        "id": "xsKNxZ82jH_c",
        "outputId": "afe3ce37-587f-4ece-b810-fea20d501593"
      },
      "outputs": [
        {
          "name": "stdout",
          "output_type": "stream",
          "text": [
            "Reverse List: ['cherry', 'banana', 'apple']\n"
          ]
        }
      ],
      "source": [
        "fruits = [\"apple\", \"banana\",\"cherry\"]\n",
        "fruits.reverse()\n",
        "print(\"Reverse List:\", fruits)"
      ]
    },
    {
      "cell_type": "markdown",
      "metadata": {
        "id": "pODu6rY7jxzv"
      },
      "source": [
        "Q9. Create a copy of the list [1, 2, 3, 4, 5] and store it in another variable. Modify the\n",
        "copied list and print both lists.\n"
      ]
    },
    {
      "cell_type": "code",
      "execution_count": null,
      "metadata": {
        "colab": {
          "base_uri": "https://localhost:8080/"
        },
        "id": "WSWxylOhjz1k",
        "outputId": "240d5c71-75b1-4ab5-a1c8-50e46ef648d0"
      },
      "outputs": [
        {
          "name": "stdout",
          "output_type": "stream",
          "text": [
            "Original List: [1, 2, 3, 4, 5]\n",
            "Copied List: [1, 2, 3, 4, 5, 6]\n"
          ]
        }
      ],
      "source": [
        "list_num = [1, 2, 3, 4, 5]\n",
        "copy_list = list_num.copy()\n",
        "copy_list.append(6)\n",
        "print(\"Original List:\", list_num)\n",
        "print(\"Copied List:\", copy_list)"
      ]
    },
    {
      "cell_type": "markdown",
      "metadata": {
        "id": "cQI5GmFxkWoj"
      },
      "source": [
        "Q10. Clear all elements from a list [“hello”, “world”, “python”] using the clear()\n",
        "method."
      ]
    },
    {
      "cell_type": "code",
      "execution_count": null,
      "metadata": {
        "colab": {
          "base_uri": "https://localhost:8080/"
        },
        "id": "nJ4TZKAPkbxN",
        "outputId": "229051ac-157c-4dad-f314-424c0e74099a"
      },
      "outputs": [
        {
          "name": "stdout",
          "output_type": "stream",
          "text": [
            "Cleared List: []\n"
          ]
        }
      ],
      "source": [
        "words = [\"hello\", \"world\", \"python\"]\n",
        "words.clear()\n",
        "print(\"Cleared List:\", words)"
      ]
    },
    {
      "cell_type": "markdown",
      "metadata": {
        "id": "LvsHFHjNmZEN"
      },
      "source": [
        "Q11. Create a tuple with 5 different fruits and print the third fruit"
      ]
    },
    {
      "cell_type": "code",
      "execution_count": null,
      "metadata": {
        "colab": {
          "base_uri": "https://localhost:8080/"
        },
        "id": "gwvlb7Mzmft7",
        "outputId": "9ba4c9a4-adc1-413e-eb6b-c80b83d6f4aa"
      },
      "outputs": [
        {
          "name": "stdout",
          "output_type": "stream",
          "text": [
            "Third Fruit: cherry\n"
          ]
        }
      ],
      "source": [
        "fruits = (\"apple\", \"banana\", \"cherry\", \"date\", \"orange\")\n",
        "print(\"Third Fruit:\", fruits[2])\n"
      ]
    },
    {
      "cell_type": "markdown",
      "metadata": {
        "id": "APrfe2mhnLFK"
      },
      "source": [
        "Q12. Convert the tuple (10, 20, 30, 40, 50) into a list, remove the number 30, and convert\n",
        "it back into a tuple."
      ]
    },
    {
      "cell_type": "code",
      "execution_count": null,
      "metadata": {
        "colab": {
          "base_uri": "https://localhost:8080/"
        },
        "id": "Gh1jlJF-o5IQ",
        "outputId": "632549ab-0bdc-4efc-810c-d22d30b5e395"
      },
      "outputs": [
        {
          "name": "stdout",
          "output_type": "stream",
          "text": [
            "Updated Tuple: (10, 20, 40, 50)\n"
          ]
        }
      ],
      "source": [
        "number_tuple = (10, 20, 30, 40, 50)\n",
        "number_list = list(number_tuple)\n",
        "number_list.remove(30)\n",
        "number_tuple = tuple(number_list)\n",
        "print(\"Updated Tuple:\", number_tuple)"
      ]
    },
    {
      "cell_type": "markdown",
      "metadata": {
        "id": "l4zuzFxgpoaQ"
      },
      "source": [
        "Q13. Try to append an element to the tuple (“A”, “B”, “C”). What happens? How can you\n",
        "modify a tuple indirectly?\n"
      ]
    },
    {
      "cell_type": "code",
      "execution_count": null,
      "metadata": {
        "colab": {
          "base_uri": "https://localhost:8080/"
        },
        "id": "aXRPCljMpqCE",
        "outputId": "20a774e9-a517-44da-b08f-b2d8313cb0dd"
      },
      "outputs": [
        {
          "name": "stdout",
          "output_type": "stream",
          "text": [
            "Updated Tuple: ('A', 'B', 'C', 'D')\n"
          ]
        }
      ],
      "source": [
        "list_13 = [\"A\", \"B\", \"C\"]\n",
        "list_13 =  list(list_13)\n",
        "list_13.append(\"D\")\n",
        "list_13 = tuple(list_13)\n",
        "print(\"Updated Tuple:\", list_13)\n"
      ]
    },
    {
      "cell_type": "markdown",
      "metadata": {
        "id": "nbLjY6sprthS"
      },
      "source": [
        "Q14. Unpack the tuple (100, 200, 300) into three separate variables and print them."
      ]
    },
    {
      "cell_type": "code",
      "execution_count": null,
      "metadata": {
        "colab": {
          "base_uri": "https://localhost:8080/"
        },
        "id": "SSKiIKxfr5ho",
        "outputId": "ba73eba3-5802-4a33-f9b2-3245e76b2423"
      },
      "outputs": [
        {
          "name": "stdout",
          "output_type": "stream",
          "text": [
            "100\n",
            "200\n",
            "300\n"
          ]
        }
      ],
      "source": [
        "# Define the tuple\n",
        "numbers = (100, 200, 300)\n",
        "\n",
        "# Unpack the tuple into separate variables\n",
        "a, b, c = numbers\n",
        "\n",
        "# Print the variables\n",
        "print(a)\n",
        "print(b)\n",
        "print(c)\n"
      ]
    },
    {
      "cell_type": "markdown",
      "metadata": {
        "id": "X0oilryQs6oc"
      },
      "source": [
        "Q15. Count the occurrences of 7 in the tuple (7, 1, 7, 3, 7, 5).\n"
      ]
    },
    {
      "cell_type": "code",
      "execution_count": null,
      "metadata": {
        "colab": {
          "base_uri": "https://localhost:8080/"
        },
        "id": "kOmoJFgns9w0",
        "outputId": "107e8364-a2ac-4904-b09f-a65faec7f608"
      },
      "outputs": [
        {
          "name": "stdout",
          "output_type": "stream",
          "text": [
            "Count of 7: 3\n"
          ]
        }
      ],
      "source": [
        "number_tuple = (7, 1, 7, 3, 7, 5)\n",
        "count = number_tuple.count(7)\n",
        "print(\"Count of 7:\", count)"
      ]
    },
    {
      "cell_type": "markdown",
      "metadata": {
        "id": "XnAAX6YJtOPx"
      },
      "source": [
        "Q16. Write a function that takes a list and returns a new list with all even numbers removed."
      ]
    },
    {
      "cell_type": "code",
      "execution_count": null,
      "metadata": {
        "colab": {
          "base_uri": "https://localhost:8080/"
        },
        "id": "4VCSZElavpns",
        "outputId": "95795e44-6577-4a74-e18d-4fbd6c9efd20"
      },
      "outputs": [
        {
          "name": "stdout",
          "output_type": "stream",
          "text": [
            "List without even number: [1, 3, 5, 7, 9]\n"
          ]
        }
      ],
      "source": [
        "def remove_even_numbers(numbers):\n",
        "    return [num for num in numbers if num % 2 != 0]\n",
        "list = [1, 2, 3, 4, 5, 6, 7, 8, 9, 10]\n",
        "print(\"List without even number:\", remove_even_numbers(list))"
      ]
    },
    {
      "cell_type": "markdown",
      "metadata": {
        "id": "EJoXG3SDwUbd"
      },
      "source": [
        "Q17. Create a function that accepts a list and returns a new list with elements sorted in\n",
        "descending order without using the sort() method.\n"
      ]
    },
    {
      "cell_type": "code",
      "execution_count": null,
      "metadata": {
        "colab": {
          "base_uri": "https://localhost:8080/"
        },
        "id": "jYRseCRSyX9p",
        "outputId": "326c891a-1db6-4ac8-a7aa-5c03fa2f36f6"
      },
      "outputs": [
        {
          "output_type": "stream",
          "name": "stdout",
          "text": [
            "descending order: [55, 44, 33, 22, 11]\n"
          ]
        }
      ],
      "source": [
        "# elements sorted in descending order without using the sort() method.\n",
        "def sort_des(lst):\n",
        "  return sorted(lst , reverse = True)\n",
        "list = [11, 22, 33, 44, 55]\n",
        "print(\"descending order:\", sort_des(list))"
      ]
    },
    {
      "cell_type": "markdown",
      "source": [
        "Q18. Given a list of numbers, write a program to remove all duplicate elements and print the\n",
        "unique elements."
      ],
      "metadata": {
        "id": "i7-ZqPsz0d6g"
      }
    },
    {
      "cell_type": "code",
      "source": [
        "number_list2 = [10, 20, 40, 10, 30, 60, 20]\n",
        "# new variable\n",
        "unique_elements = []\n",
        "\n",
        "for num in number_list2:\n",
        "    if num not in unique_elements:\n",
        "        unique_elements.append(num)\n",
        "print(\"Unique Elements:\", unique_elements)"
      ],
      "metadata": {
        "id": "8wGz_LV_0fuG",
        "colab": {
          "base_uri": "https://localhost:8080/"
        },
        "outputId": "c23fdf38-5d66-4ffa-9915-9d903fdabde5"
      },
      "execution_count": null,
      "outputs": [
        {
          "output_type": "stream",
          "name": "stdout",
          "text": [
            "Unique Elements: [10, 20, 40, 30, 60]\n"
          ]
        }
      ]
    },
    {
      "cell_type": "markdown",
      "source": [
        "Q19. Given a tuple of names (“Alice”, “Bob”, “Charlie”, “Alice”, “David”), convert\n",
        "it into a list, remove duplicates, and convert it back to a tuple."
      ],
      "metadata": {
        "id": "Y7GojyQNJ_O9"
      }
    },
    {
      "cell_type": "code",
      "source": [
        "names_tuple = (\"Alice\", \"Bob\", \"Charlie\", \"Alice\", \"David\")\n",
        "\n",
        "names_list = list(set(names_tuple))  # convert to set to remove duplicates\n",
        "\n",
        "names_tuple = tuple(names_list) # convert back to tuple\n",
        "print(\"Updated Tuple after removing duplicate:\", names_tuple)"
      ],
      "metadata": {
        "colab": {
          "base_uri": "https://localhost:8080/"
        },
        "id": "m7kGO4_HKBey",
        "outputId": "f61b02df-2633-41d8-f458-061772154ef4"
      },
      "execution_count": null,
      "outputs": [
        {
          "output_type": "stream",
          "name": "stdout",
          "text": [
            "Updated Tuple after removing duplicate: ('Alice', 'Bob', 'Charlie', 'David')\n"
          ]
        }
      ]
    },
    {
      "cell_type": "markdown",
      "source": [
        "Q20. Create a program that takes a list of mixed data types (int, str, float) and separates\n",
        "integers into one list, strings into another, and floats into another."
      ],
      "metadata": {
        "id": "LGP73VYOKF0f"
      }
    },
    {
      "cell_type": "code",
      "source": [
        "mixed_list = [41, \"hello world\", 3.6, 48, \"java\", \"python\", 27, 5.5]\n",
        "integers = [x for x in mixed_list if isinstance(x, int)]\n",
        "strings = [x for x in mixed_list if isinstance(x, str)]\n",
        "floats = [x for x in mixed_list if isinstance(x, float)]\n",
        "\n",
        "print(\"Integers:\", integers)\n",
        "print(\"Strings:\", strings)\n",
        "print(\"Floats:\", floats)"
      ],
      "metadata": {
        "colab": {
          "base_uri": "https://localhost:8080/"
        },
        "id": "8_lS_QOWKO5v",
        "outputId": "ca99bf6c-6ed3-4f96-86d5-838302d5cbce"
      },
      "execution_count": null,
      "outputs": [
        {
          "output_type": "stream",
          "name": "stdout",
          "text": [
            "Integers: [41, 48, 27]\n",
            "Strings: ['hello world', 'java', 'python']\n",
            "Floats: [3.6, 5.5]\n"
          ]
        }
      ]
    }
  ],
  "metadata": {
    "colab": {
      "provenance": [],
      "authorship_tag": "ABX9TyONGk0wYWYqNHsy3oled7Js",
      "include_colab_link": true
    },
    "kernelspec": {
      "display_name": "Python 3",
      "name": "python3"
    },
    "language_info": {
      "name": "python"
    }
  },
  "nbformat": 4,
  "nbformat_minor": 0
}